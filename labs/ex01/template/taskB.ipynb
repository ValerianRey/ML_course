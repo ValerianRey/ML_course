{
 "cells": [
  {
   "cell_type": "code",
   "execution_count": 1,
   "metadata": {},
   "outputs": [],
   "source": [
    "%matplotlib inline\n",
    "import numpy as np\n",
    "import matplotlib.pyplot as plt\n",
    "%load_ext autoreload\n",
    "%autoreload 2"
   ]
  },
  {
   "cell_type": "markdown",
   "metadata": {},
   "source": [
    "Data Generation\n",
    "==="
   ]
  },
  {
   "cell_type": "code",
   "execution_count": 2,
   "metadata": {},
   "outputs": [
    {
     "name": "stdout",
     "output_type": "stream",
     "text": [
      "[[0.77132064 0.02075195]\n",
      " [0.63364823 0.74880388]\n",
      " [0.49850701 0.22479665]\n",
      " [0.19806286 0.76053071]] \n",
      "\n",
      " [[0.16911084 0.08833981]\n",
      " [0.68535982 0.95339335]\n",
      " [0.00394827 0.51219226]\n",
      " [0.81262096 0.61252607]\n",
      " [0.72175532 0.29187607]]\n"
     ]
    }
   ],
   "source": [
    "np.random.seed(10)\n",
    "p, q = (np.random.rand(i, 2) for i in (4, 5))\n",
    "p_big, q_big = (np.random.rand(i, 80) for i in (100, 120))\n",
    "\n",
    "print(p, \"\\n\\n\", q)"
   ]
  },
  {
   "cell_type": "markdown",
   "metadata": {},
   "source": [
    "Solution\n",
    "==="
   ]
  },
  {
   "cell_type": "code",
   "execution_count": 3,
   "metadata": {
    "scrolled": true
   },
   "outputs": [
    {
     "data": {
      "text/plain": [
       "array([[0.60599073, 0.93659449, 0.91124856, 0.59321356, 0.27561751],\n",
       "       [0.80746999, 0.21102354, 0.67268649, 0.22495084, 0.46534491],\n",
       "       [0.35654215, 0.75217493, 0.57200052, 0.49900068, 0.23310825],\n",
       "       [0.67281411, 0.52407472, 0.31520226, 0.63212897, 0.70277376]])"
      ]
     },
     "execution_count": 3,
     "metadata": {},
     "output_type": "execute_result"
    }
   ],
   "source": [
    "def naive(p, q):\n",
    "    res = np.zeros((p.shape[0], q.shape[0]))\n",
    "    \n",
    "    for i in range(0, p.shape[0]):\n",
    "        for j in range(0, q.shape[0]):\n",
    "            res[i, j] = np.sqrt((p[i, 0] - q[j, 0]) ** 2 + (p[i, 1] - q[j, 1]) ** 2)\n",
    "    \n",
    "    return res\n",
    "    \n",
    "naive(p, q)"
   ]
  },
  {
   "cell_type": "markdown",
   "metadata": {},
   "source": [
    "### Use matching indices\n",
    "\n",
    "Instead of iterating through indices, one can use them directly to parallelize the operations with Numpy."
   ]
  },
  {
   "cell_type": "code",
   "execution_count": 4,
   "metadata": {},
   "outputs": [
    {
     "data": {
      "text/plain": [
       "array([[[[7, 3, 3, 2, 4],\n",
       "         [9, 3, 4, 1, 8],\n",
       "         [0, 6, 4, 1, 1],\n",
       "         [0, 7, 7, 0, 5]],\n",
       "\n",
       "        [[1, 5, 3, 0, 6],\n",
       "         [9, 6, 3, 9, 6],\n",
       "         [3, 3, 5, 5, 4],\n",
       "         [9, 5, 9, 0, 2]],\n",
       "\n",
       "        [[7, 0, 7, 0, 1],\n",
       "         [8, 0, 9, 2, 1],\n",
       "         [6, 7, 5, 8, 4],\n",
       "         [7, 1, 3, 8, 7]]],\n",
       "\n",
       "\n",
       "       [[[6, 8, 3, 6, 7],\n",
       "         [3, 0, 3, 6, 1],\n",
       "         [6, 4, 0, 6, 2],\n",
       "         [2, 9, 6, 5, 4]],\n",
       "\n",
       "        [[6, 0, 4, 0, 1],\n",
       "         [2, 8, 3, 9, 3],\n",
       "         [0, 4, 9, 8, 7],\n",
       "         [7, 1, 0, 8, 6]],\n",
       "\n",
       "        [[0, 7, 0, 4, 2],\n",
       "         [8, 1, 4, 4, 1],\n",
       "         [3, 7, 1, 6, 7],\n",
       "         [2, 7, 1, 4, 8]]]])"
      ]
     },
     "execution_count": 4,
     "metadata": {},
     "output_type": "execute_result"
    }
   ],
   "source": [
    "a = np.random.randint(0, 10, size=(2,3,4,5))\n",
    "a"
   ]
  },
  {
   "cell_type": "code",
   "execution_count": 5,
   "metadata": {},
   "outputs": [
    {
     "data": {
      "text/plain": [
       "array([[[[1, 5, 3, 0, 6],\n",
       "         [1, 5, 3, 0, 6],\n",
       "         [1, 5, 3, 0, 6],\n",
       "         [1, 5, 3, 0, 6]],\n",
       "\n",
       "        [[1, 5, 3, 0, 6],\n",
       "         [1, 5, 3, 0, 6],\n",
       "         [1, 5, 3, 0, 6],\n",
       "         [1, 5, 3, 0, 6]],\n",
       "\n",
       "        [[1, 5, 3, 0, 6],\n",
       "         [1, 5, 3, 0, 6],\n",
       "         [1, 5, 3, 0, 6],\n",
       "         [1, 5, 3, 0, 6]]],\n",
       "\n",
       "\n",
       "       [[[6, 0, 4, 0, 1],\n",
       "         [6, 0, 4, 0, 1],\n",
       "         [6, 0, 4, 0, 1],\n",
       "         [6, 0, 4, 0, 1]],\n",
       "\n",
       "        [[6, 0, 4, 0, 1],\n",
       "         [6, 0, 4, 0, 1],\n",
       "         [6, 0, 4, 0, 1],\n",
       "         [6, 0, 4, 0, 1]],\n",
       "\n",
       "        [[6, 0, 4, 0, 1],\n",
       "         [6, 0, 4, 0, 1],\n",
       "         [6, 0, 4, 0, 1],\n",
       "         [6, 0, 4, 0, 1]]]])"
      ]
     },
     "execution_count": 5,
     "metadata": {},
     "output_type": "execute_result"
    }
   ],
   "source": [
    "rows, cols, layers, arrs = np.indices(a.shape)\n",
    "a[rows, 1, 0, arrs]"
   ]
  },
  {
   "cell_type": "code",
   "execution_count": 6,
   "metadata": {},
   "outputs": [
    {
     "data": {
      "text/plain": [
       "array([[1, 5, 3, 0, 6],\n",
       "       [6, 0, 4, 0, 1]])"
      ]
     },
     "execution_count": 6,
     "metadata": {},
     "output_type": "execute_result"
    }
   ],
   "source": [
    "a[:, 1, 0, :]"
   ]
  },
  {
   "cell_type": "markdown",
   "metadata": {},
   "source": [
    "=> Using indices is useful to slice the array while retaining its original shape (thus duplicating the interesting slice on the other axes)."
   ]
  },
  {
   "cell_type": "code",
   "execution_count": 7,
   "metadata": {},
   "outputs": [
    {
     "name": "stdout",
     "output_type": "stream",
     "text": [
      "[[0 0 0 0 0]\n",
      " [1 1 1 1 1]\n",
      " [2 2 2 2 2]\n",
      " [3 3 3 3 3]]\n",
      "\n",
      "[[0 1 2 3 4]\n",
      " [0 1 2 3 4]\n",
      " [0 1 2 3 4]\n",
      " [0 1 2 3 4]]\n"
     ]
    }
   ],
   "source": [
    "rows, cols = np.indices((p.shape[0], q.shape[0]))\n",
    "print(rows, end='\\n\\n')\n",
    "print(cols)"
   ]
  },
  {
   "cell_type": "code",
   "execution_count": 8,
   "metadata": {},
   "outputs": [
    {
     "name": "stdout",
     "output_type": "stream",
     "text": [
      "[[0.77132064 0.02075195]\n",
      " [0.77132064 0.02075195]\n",
      " [0.77132064 0.02075195]\n",
      " [0.77132064 0.02075195]\n",
      " [0.77132064 0.02075195]\n",
      " [0.63364823 0.74880388]\n",
      " [0.63364823 0.74880388]\n",
      " [0.63364823 0.74880388]\n",
      " [0.63364823 0.74880388]\n",
      " [0.63364823 0.74880388]\n",
      " [0.49850701 0.22479665]\n",
      " [0.49850701 0.22479665]\n",
      " [0.49850701 0.22479665]\n",
      " [0.49850701 0.22479665]\n",
      " [0.49850701 0.22479665]\n",
      " [0.19806286 0.76053071]\n",
      " [0.19806286 0.76053071]\n",
      " [0.19806286 0.76053071]\n",
      " [0.19806286 0.76053071]\n",
      " [0.19806286 0.76053071]]\n",
      "\n",
      "[[0.16911084 0.08833981]\n",
      " [0.68535982 0.95339335]\n",
      " [0.00394827 0.51219226]\n",
      " [0.81262096 0.61252607]\n",
      " [0.72175532 0.29187607]\n",
      " [0.16911084 0.08833981]\n",
      " [0.68535982 0.95339335]\n",
      " [0.00394827 0.51219226]\n",
      " [0.81262096 0.61252607]\n",
      " [0.72175532 0.29187607]\n",
      " [0.16911084 0.08833981]\n",
      " [0.68535982 0.95339335]\n",
      " [0.00394827 0.51219226]\n",
      " [0.81262096 0.61252607]\n",
      " [0.72175532 0.29187607]\n",
      " [0.16911084 0.08833981]\n",
      " [0.68535982 0.95339335]\n",
      " [0.00394827 0.51219226]\n",
      " [0.81262096 0.61252607]\n",
      " [0.72175532 0.29187607]]\n"
     ]
    }
   ],
   "source": [
    "print(p[rows.ravel()], end='\\n\\n')\n",
    "print(q[cols.ravel()])"
   ]
  },
  {
   "cell_type": "code",
   "execution_count": 9,
   "metadata": {},
   "outputs": [
    {
     "data": {
      "text/plain": [
       "array([[0.60599073, 0.93659449, 0.91124856, 0.59321356, 0.27561751],\n",
       "       [0.80746999, 0.21102354, 0.67268649, 0.22495084, 0.46534491],\n",
       "       [0.35654215, 0.75217493, 0.57200052, 0.49900068, 0.23310825],\n",
       "       [0.67281411, 0.52407472, 0.31520226, 0.63212897, 0.70277376]])"
      ]
     },
     "execution_count": 9,
     "metadata": {},
     "output_type": "execute_result"
    }
   ],
   "source": [
    "def with_indices(p, q):\n",
    "    rows, cols = np.indices((p.shape[0], q.shape[0]))\n",
    "    res = np.sqrt(((p[rows.ravel()] - q[cols.ravel()]) ** 2).sum(axis=1)).reshape(p.shape[0], q.shape[0])\n",
    "    return res\n",
    "\n",
    "with_indices(p, q)"
   ]
  },
  {
   "cell_type": "markdown",
   "metadata": {},
   "source": [
    "### Use a library\n",
    "\n",
    "`scipy` is the equivalent of matlab toolboxes and have a lot to offer. Actually the pairwise computation is part of the library through the `spatial` module."
   ]
  },
  {
   "cell_type": "code",
   "execution_count": 10,
   "metadata": {},
   "outputs": [
    {
     "data": {
      "text/plain": [
       "array([[0.60599073, 0.93659449, 0.91124856, 0.59321356, 0.27561751],\n",
       "       [0.80746999, 0.21102354, 0.67268649, 0.22495084, 0.46534491],\n",
       "       [0.35654215, 0.75217493, 0.57200052, 0.49900068, 0.23310825],\n",
       "       [0.67281411, 0.52407472, 0.31520226, 0.63212897, 0.70277376]])"
      ]
     },
     "execution_count": 10,
     "metadata": {},
     "output_type": "execute_result"
    }
   ],
   "source": [
    "from scipy.spatial.distance import cdist\n",
    "\n",
    "def scipy_version(p, q):\n",
    "    return cdist(p, q)\n",
    "\n",
    "scipy_version(p, q)"
   ]
  },
  {
   "cell_type": "markdown",
   "metadata": {},
   "source": [
    "### Numpy Magic"
   ]
  },
  {
   "cell_type": "code",
   "execution_count": 11,
   "metadata": {},
   "outputs": [
    {
     "name": "stdout",
     "output_type": "stream",
     "text": [
      "(4, 1, 2)\n",
      "(1, 5, 2)\n"
     ]
    },
    {
     "data": {
      "text/plain": [
       "(4, 5, 2)"
      ]
     },
     "execution_count": 11,
     "metadata": {},
     "output_type": "execute_result"
    }
   ],
   "source": [
    "print(p[:, None, :].shape)\n",
    "print(q[None, :, :].shape)\n",
    "\n",
    "p2 = p[:, None, :]\n",
    "q2 = q[None, :, :]\n",
    "\n",
    "(p2 + q2).shape"
   ]
  },
  {
   "cell_type": "code",
   "execution_count": 12,
   "metadata": {},
   "outputs": [
    {
     "data": {
      "text/plain": [
       "array([[0.60599073, 0.93659449, 0.91124856, 0.59321356, 0.27561751],\n",
       "       [0.80746999, 0.21102354, 0.67268649, 0.22495084, 0.46534491],\n",
       "       [0.35654215, 0.75217493, 0.57200052, 0.49900068, 0.23310825],\n",
       "       [0.67281411, 0.52407472, 0.31520226, 0.63212897, 0.70277376]])"
      ]
     },
     "execution_count": 12,
     "metadata": {},
     "output_type": "execute_result"
    }
   ],
   "source": [
    "def tensor_broadcasting(p, q):\n",
    "    return np.sqrt(np.sum((p[:,np.newaxis,:]-q[np.newaxis,:,:])**2, axis=2))\n",
    "\n",
    "tensor_broadcasting(p, q)"
   ]
  },
  {
   "cell_type": "markdown",
   "metadata": {},
   "source": [
    "# Compare methods"
   ]
  },
  {
   "cell_type": "code",
   "execution_count": 13,
   "metadata": {},
   "outputs": [
    {
     "name": "stdout",
     "output_type": "stream",
     "text": [
      "26.1 ms ± 253 µs per loop (mean ± std. dev. of 7 runs, 10 loops each)\n",
      "4.74 ms ± 19.6 µs per loop (mean ± std. dev. of 7 runs, 100 loops each)\n",
      "414 µs ± 2.7 µs per loop (mean ± std. dev. of 7 runs, 1000 loops each)\n",
      "2 ms ± 18 µs per loop (mean ± std. dev. of 7 runs, 1000 loops each)\n"
     ]
    }
   ],
   "source": [
    "methods = [naive, with_indices, scipy_version, tensor_broadcasting]\n",
    "timers = []\n",
    "for f in methods:\n",
    "    r = %timeit -o f(p_big, q_big)\n",
    "    timers.append(r)"
   ]
  },
  {
   "cell_type": "code",
   "execution_count": 14,
   "metadata": {},
   "outputs": [
    {
     "data": {
      "image/png": "[encoded data removed]",
      "text/plain": [
       "<Figure size 720x432 with 1 Axes>"
      ]
     },
     "metadata": {
      "needs_background": "light"
     },
     "output_type": "display_data"
    }
   ],
   "source": [
    "plt.figure(figsize=(10,6))\n",
    "plt.bar(np.arange(len(methods)), [r.best*1000 for r in timers], log=False)  # Set log to True for logarithmic scale\n",
    "plt.xticks(np.arange(len(methods))+0.2, [f.__name__ for f in methods], rotation=30)\n",
    "plt.xlabel('Method')\n",
    "plt.ylabel('Time (ms)')\n",
    "plt.show()"
   ]
  }
 ],
 "metadata": {
  "kernelspec": {
   "display_name": "Python 3 (ipykernel)",
   "language": "python",
   "name": "python3"
  },
  "language_info": {
   "codemirror_mode": {
    "name": "ipython",
    "version": 3
   },
   "file_extension": ".py",
   "mimetype": "text/x-python",
   "name": "python",
   "nbconvert_exporter": "python",
   "pygments_lexer": "ipython3",
   "version": "3.9.7"
  }
 },
 "nbformat": 4,
 "nbformat_minor": 1
}
